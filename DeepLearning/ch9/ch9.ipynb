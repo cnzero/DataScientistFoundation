{
 "cells": [
  {
   "cell_type": "markdown",
   "metadata": {},
   "source": [
    "## 前言\n",
    "并不完全按照教材来的。主要是想在教材多遍阅读与理解的基础上，更要有自己的理解与整理方式。\n",
    "\n",
    "并且强调问题引导方式进行 __自问自答__ 。"
   ]
  },
  {
   "cell_type": "markdown",
   "metadata": {},
   "source": [
    "## 什么是卷积运算与池化处理\n",
    "## 卷积运算的Motivations\n",
    "## 卷积神经网络的变种\n",
    "## 在各类不通过的Data Types，卷积神经网络是如何处理的？\n",
    "## 卷积运算中有哪些提高运算效率的方法？\n",
    "## 作为深度学习的先锋，卷积神经网络与神经科学有哪些联系？"
   ]
  }
 ],
 "metadata": {
  "kernelspec": {
   "display_name": "Python 3",
   "language": "python",
   "name": "python3"
  },
  "language_info": {
   "codemirror_mode": {
    "name": "ipython",
    "version": 3
   },
   "file_extension": ".py",
   "mimetype": "text/x-python",
   "name": "python",
   "nbconvert_exporter": "python",
   "pygments_lexer": "ipython3",
   "version": "3.6.0"
  }
 },
 "nbformat": 4,
 "nbformat_minor": 2
}
