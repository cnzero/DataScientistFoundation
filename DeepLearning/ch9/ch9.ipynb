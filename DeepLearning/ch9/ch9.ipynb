{
 "cells": [
  {
   "cell_type": "markdown",
   "metadata": {},
   "source": [
    "## 前言\n",
    "并不完全按照教材来的。主要是想在教材多遍阅读与理解的基础上，更要有自己的理解与整理方式。\n",
    "\n",
    "并且强调问题引导方式进行 __自问自答__ 。"
   ]
  },
  {
   "cell_type": "markdown",
   "metadata": {},
   "source": [
    "## 什么是卷积运算与池化处理"
   ]
  },
  {
   "cell_type": "markdown",
   "metadata": {},
   "source": [
    "### 卷积运算"
   ]
  },
  {
   "cell_type": "markdown",
   "metadata": {},
   "source": [
    "<table>\n",
    "<td>\n",
    "<video width=\"250\" height=\"180\" src=\"fgConvolution.mp4\" type=\"video/mp4\" controls>\n",
    "</video>\n",
    "</td>\n",
    "\n",
    "<td>\n",
    "<img src=\"Convolution_schematic.gif\" style=\"width:300px;height:200px;\">\n",
    "</td>\n",
    "\n",
    "<td>\n",
    "<video width=\"300\" height=\"200\" src=\"conv_kiank.mp4\" type=\"video/mp4\" controls>\n",
    "</video>\n",
    "</td>\n",
    "\n",
    "</table>\n",
    "\n",
    "__卷积运算__ 在数学上有严格的公式定义，但是由于在CNN中常常不翻折，因此也称为cross-convolution。 \n",
    "\n",
    "理解成一种计算重叠部分的运算，相乘或element-wise相乘求和等。\n",
    "\n",
    "如上所示为一维和二维卷积操作，用图示或动画比较直观，就不打算上公式了。"
   ]
  },
  {
   "cell_type": "markdown",
   "metadata": {},
   "source": [
    "### 池化处理"
   ]
  },
  {
   "cell_type": "markdown",
   "metadata": {},
   "source": [
    "<table>\n",
    "<td>\n",
    "<img src=\"max_pool1.png\" style=\"width:500px;height:300px;\">\n",
    "<td>\n",
    "\n",
    "<td>\n",
    "<img src=\"a_pool.png\" style=\"width:500px;height:300px;\">\n",
    "<td>\n",
    "</table>"
   ]
  },
  {
   "cell_type": "markdown",
   "metadata": {},
   "source": [
    "## 卷积运算的Motivations\n",
    "## 卷积神经网络的变种\n",
    "## 在各类不通过的Data Types，卷积神经网络是如何处理的？\n",
    "## 卷积运算中有哪些提高运算效率的方法？\n",
    "## 作为深度学习的先锋，卷积神经网络与神经科学有哪些联系？"
   ]
  }
 ],
 "metadata": {
  "kernelspec": {
   "display_name": "Python 3",
   "language": "python",
   "name": "python3"
  },
  "language_info": {
   "codemirror_mode": {
    "name": "ipython",
    "version": 3
   },
   "file_extension": ".py",
   "mimetype": "text/x-python",
   "name": "python",
   "nbconvert_exporter": "python",
   "pygments_lexer": "ipython3",
   "version": "3.6.0"
  }
 },
 "nbformat": 4,
 "nbformat_minor": 2
}
