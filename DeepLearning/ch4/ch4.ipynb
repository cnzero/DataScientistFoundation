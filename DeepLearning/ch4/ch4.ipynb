{
 "cells": [
  {
   "cell_type": "markdown",
   "metadata": {},
   "source": [
    "## Numerical Computation"
   ]
  },
  {
   "cell_type": "markdown",
   "metadata": {},
   "source": [
    "### 数值计算中有哪些常见的问题及其定义？"
   ]
  },
  {
   "cell_type": "markdown",
   "metadata": {},
   "source": [
    "- Rounding error 。 在计算机进行近似表示时产生一些“四舍五入”的误差。\n",
    "    - Overflow\n",
    "    - Underflow\n",
    "- Poor Conditioning"
   ]
  },
  {
   "cell_type": "markdown",
   "metadata": {},
   "source": [
    "### Overlow\n",
    "某些变量的幅值趋向 $- \\infty $ 或 $- \\infty $ 。"
   ]
  },
  {
   "cell_type": "markdown",
   "metadata": {},
   "source": [
    "### Underflow\n",
    "当变量在零附近是被当做零处理。"
   ]
  },
  {
   "cell_type": "markdown",
   "metadata": {},
   "source": [
    "#### Example"
   ]
  },
  {
   "cell_type": "markdown",
   "metadata": {},
   "source": [
    "$$softmax(x_i) = \\frac {exp(x_i)}{\\sum_{j=1}^{n}exp(x_j)}$$\n",
    "常用于描述多类伯努利分布的概率估计。\n",
    "\n",
    "- 出现Underflow。 当其中某项$x_i$为幅值较大的负数时，分子趋近于0，导致概率估计接近零，出现Underflow。\n",
    "- 出现Overflow。 当$x_i$幅值较大的正数时，将出现 $\\fract {+ \\infty} {+ \\infty}$，虽然从数学上来看两个$+ \\infty $ 是等价或低阶的，（总之极限存在）；但其中任意一个数值都会产生 _Overflow_ 。\n",
    "\n",
    "__解决办法__：\n",
    "\n",
    "令， $$z = x - \\max_{i}(x_i)$$\n",
    "使用这种技巧能够解决上述问题。"
   ]
  },
  {
   "cell_type": "markdown",
   "metadata": {},
   "source": [
    "### Poor Conditioning"
   ]
  },
  {
   "cell_type": "markdown",
   "metadata": {},
   "source": [
    "因变量对某些输入自变量引起变化的快慢程度，也就是对 _输入的敏感程度_ 。"
   ]
  },
  {
   "cell_type": "markdown",
   "metadata": {},
   "source": [
    "如，$$f(x) = A^{-1} x$$\n",
    "对 $A$进行特征值分解，则 $$\\max_{i, j} \\left | \\frac {\\lambda_i }{\\lambda_j} \\right |$$\n",
    "用于衡量矩阵求逆对输入误差的敏感程度"
   ]
  },
  {
   "cell_type": "markdown",
   "metadata": {},
   "source": [
    "### 有哪些优化问题及其解决方法？"
   ]
  },
  {
   "cell_type": "markdown",
   "metadata": {},
   "source": [
    "### Gradient-Based Optimization\n",
    "### Constrained Optimization\n",
    "### Convey Optimization"
   ]
  }
 ],
 "metadata": {
  "kernelspec": {
   "display_name": "Python 3",
   "language": "python",
   "name": "python3"
  },
  "language_info": {
   "codemirror_mode": {
    "name": "ipython",
    "version": 3
   },
   "file_extension": ".py",
   "mimetype": "text/x-python",
   "name": "python",
   "nbconvert_exporter": "python",
   "pygments_lexer": "ipython3",
   "version": "3.6.0"
  }
 },
 "nbformat": 4,
 "nbformat_minor": 2
}
